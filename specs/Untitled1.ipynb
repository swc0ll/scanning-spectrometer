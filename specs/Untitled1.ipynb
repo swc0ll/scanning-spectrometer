{
 "cells": [
  {
   "cell_type": "code",
   "execution_count": 2,
   "metadata": {},
   "outputs": [
    {
     "name": "stdout",
     "output_type": "stream",
     "text": [
      "#first line - comment, second - resolution n, m, third - wavelengths, fourth and further - point coordinates i, j and spectraIntegration time us: 500000Step - 4\n",
      "\n",
      "#first line - comment, second - resolution n, m, third - wavelengths, fourth and further - point coordinates i, j and spectraIntegration time us: 500000Step - 4\n",
      "\n"
     ]
    },
    {
     "ename": "TypeError",
     "evalue": "'tuple' object is not callable",
     "output_type": "error",
     "traceback": [
      "\u001b[1;31m---------------------------------------------------------------------------\u001b[0m",
      "\u001b[1;31mTypeError\u001b[0m                                 Traceback (most recent call last)",
      "\u001b[1;32m<ipython-input-2-26234b95b252>\u001b[0m in \u001b[0;36m<module>\u001b[1;34m()\u001b[0m\n\u001b[0;32m     32\u001b[0m \u001b[0mf2\u001b[0m\u001b[1;33m.\u001b[0m\u001b[0mclose\u001b[0m\u001b[1;33m(\u001b[0m\u001b[1;33m)\u001b[0m\u001b[1;33m\u001b[0m\u001b[1;33m\u001b[0m\u001b[0m\n\u001b[0;32m     33\u001b[0m \u001b[1;33m\u001b[0m\u001b[0m\n\u001b[1;32m---> 34\u001b[1;33m \u001b[0mprint\u001b[0m\u001b[1;33m(\u001b[0m\u001b[0mspec1\u001b[0m\u001b[1;33m.\u001b[0m\u001b[0mshape\u001b[0m\u001b[1;33m(\u001b[0m\u001b[1;33m)\u001b[0m\u001b[1;33m,\u001b[0m \u001b[0mspec2\u001b[0m\u001b[1;33m.\u001b[0m\u001b[0mshape\u001b[0m\u001b[1;33m(\u001b[0m\u001b[1;33m)\u001b[0m\u001b[1;33m)\u001b[0m\u001b[1;33m\u001b[0m\u001b[1;33m\u001b[0m\u001b[0m\n\u001b[0m",
      "\u001b[1;31mTypeError\u001b[0m: 'tuple' object is not callable"
     ]
    }
   ],
   "source": [
    "import numpy as np\n",
    "\n",
    "f = open('zero_count.txt', 'r')\n",
    "s = f.readline()\n",
    "f.close()\n",
    "zero_count = np.array([float(x) for x in s.split()])\n",
    "\n",
    "\n",
    "f1 = open('spec_scan_27_11_2018__18-20-34.txt', 'r')\n",
    "print(f1.readline())\n",
    "n, m = [int(x) for x in f1.readline().split()]\n",
    "wavelengths = np.array([float(x) for x in f1.readline().split()])\n",
    "spec1 = np.zeros((n, m, wavelengths.size))\n",
    "for i in range(n):\n",
    "    for j in range(m):\n",
    "        line = f1.readline().split()\n",
    "        k, l = [int(x) for x in line[:2]]\n",
    "        a = [float(x) for x in line[2:]]\n",
    "        spec1[k,l] = np.array(a)-zero_count\n",
    "f1.close()\n",
    "f2 = open('spec_scan_27_11_2018__19-19-44.txt', 'r')\n",
    "print(f2.readline())\n",
    "n, m = [int(x) for x in f2.readline().split()]\n",
    "wavelengths = np.array([float(x) for x in f2.readline().split()])\n",
    "spec2 = np.zeros((n, m, wavelengths.size))\n",
    "for i in range(n):\n",
    "    for j in range(m):\n",
    "        line = f2.readline().split()\n",
    "        k, l = [int(x) for x in line[:2]]\n",
    "        a = [float(x) for x in line[2:]]\n",
    "        spec2[k,l] = np.array(a)-zero_count\n",
    "f2.close()\n",
    "        \n"
   ]
  },
  {
   "cell_type": "code",
   "execution_count": 3,
   "metadata": {},
   "outputs": [
    {
     "name": "stdout",
     "output_type": "stream",
     "text": [
      "(55, 122, 3648) (17, 122, 3648)\n"
     ]
    }
   ],
   "source": [
    "print(spec1.shape, spec2.shape)"
   ]
  },
  {
   "cell_type": "code",
   "execution_count": 7,
   "metadata": {},
   "outputs": [],
   "source": [
    "n1, m1, k1= spec1.shape\n",
    "n2, m2, k2= spec2.shape\n",
    "new_spec = np.zeros((n1+n2, m1, k1))"
   ]
  },
  {
   "cell_type": "code",
   "execution_count": 8,
   "metadata": {},
   "outputs": [],
   "source": [
    "new_spec[:55,:,:] = spec1\n",
    "new_spec[55:, :, :] = spec2"
   ]
  },
  {
   "cell_type": "code",
   "execution_count": 11,
   "metadata": {},
   "outputs": [],
   "source": [
    "file = open('spec_scan_27_11_2018.txt', 'w')\n",
    "file.write(' '.join(['{0:.2f}'.format(x) for x in wavelengths]) + '\\n')\n",
    "\n",
    "\n",
    "for i in range(72):\n",
    "    for j in range(m1):\n",
    "        file.write(str(i) + ' ' + str(j) + ' ')\n",
    "        intensities = new_spec[i,j]\n",
    "        file.write(' '.join(['{0:.2f}'.format(x) for x in intensities]) + '\\n')\n",
    "file.close()"
   ]
  },
  {
   "cell_type": "code",
   "execution_count": 15,
   "metadata": {
    "collapsed": true
   },
   "outputs": [],
   "source": [
    "f = open('zero_count.txt', 'r')\n",
    "s = f.readline()\n",
    "f.close()\n",
    "zero_count = np.array([float(x) for x in s.split()])\n",
    "\n",
    "fname = 'spec_scan_26_11_2018__13-06-07'\n",
    "\n",
    "f1 = open(fname + '.txt', 'r')\n",
    "first_line = f1.readline()\n",
    "n, m = [int(x) for x in f1.readline().split()]\n",
    "wavelengths = np.array([float(x) for x in f1.readline().split()])\n",
    "spec1 = np.zeros((n, m, wavelengths.size))\n",
    "for i in range(n):\n",
    "    for j in range(m):\n",
    "        line = f1.readline().split()\n",
    "        k, l = [int(x) for x in line[:2]]\n",
    "        a = [float(x) for x in line[2:]]\n",
    "        spec1[k,l] = np.array(a)-zero_count\n",
    "f1.close()\n",
    "\n",
    "file = open(fname + '_clear.txt', 'w')\n",
    "file.write(first_line+'\\n')\n",
    "file.write(str(n)+' '+str(m)+'\\n')\n",
    "file.write(' '.join(['{0:.2f}'.format(x) for x in wavelengths]) + '\\n')\n",
    "\n",
    "\n",
    "\n",
    "for i in range(n):\n",
    "    for j in range(m):\n",
    "        file.write(str(i) + ' ' + str(j) + ' ')\n",
    "        intensities = spec1[i,j]\n",
    "        file.write(' '.join(['{0:.2f}'.format(x) for x in intensities]) + '\\n')\n",
    "file.close()"
   ]
  }
 ],
 "metadata": {
  "kernelspec": {
   "display_name": "Python 3",
   "language": "python",
   "name": "python3"
  },
  "language_info": {
   "codemirror_mode": {
    "name": "ipython",
    "version": 3
   },
   "file_extension": ".py",
   "mimetype": "text/x-python",
   "name": "python",
   "nbconvert_exporter": "python",
   "pygments_lexer": "ipython3",
   "version": "3.6.7"
  }
 },
 "nbformat": 4,
 "nbformat_minor": 2
}
